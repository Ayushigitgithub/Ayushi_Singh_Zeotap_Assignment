{
 "cells": [
  {
   "cell_type": "code",
   "execution_count": 1,
   "id": "f2eb81d9",
   "metadata": {},
   "outputs": [],
   "source": [
    "import pandas as pd\n",
    "import numpy as np\n",
    "from sklearn.preprocessing import MinMaxScaler\n",
    "from sklearn.metrics.pairwise import cosine_similarity\n"
   ]
  },
  {
   "cell_type": "code",
   "execution_count": 2,
   "id": "d6a98928",
   "metadata": {},
   "outputs": [],
   "source": [
    "customers = pd.read_csv(r\"C:\\Users\\Ayushi singh\\Downloads\\Untitled Folder\\Customers.csv\")\n",
    "products = pd.read_csv(r\"C:\\Users\\Ayushi singh\\Downloads\\Untitled Folder\\Products.csv\")\n",
    "transactions = pd.read_csv(r\"C:\\Users\\Ayushi singh\\Downloads\\Untitled Folder\\Transactions.csv\")"
   ]
  },
  {
   "cell_type": "code",
   "execution_count": 3,
   "id": "9b8ff1fa",
   "metadata": {},
   "outputs": [],
   "source": [
    "data = transactions.merge(customers, on=\"CustomerID\").merge(products, on=\"ProductID\")"
   ]
  },
  {
   "cell_type": "code",
   "execution_count": 4,
   "id": "a08acd4d",
   "metadata": {},
   "outputs": [
    {
     "name": "stdout",
     "output_type": "stream",
     "text": [
      "  TransactionID CustomerID ProductID      TransactionDate  Quantity  \\\n",
      "0        T00001      C0199      P067  2024-08-25 12:38:23         1   \n",
      "1        T00112      C0146      P067  2024-05-27 22:23:54         1   \n",
      "2        T00166      C0127      P067  2024-04-25 07:38:55         1   \n",
      "3        T00272      C0087      P067  2024-03-26 22:55:37         2   \n",
      "4        T00363      C0070      P067  2024-03-21 15:10:10         3   \n",
      "\n",
      "   TotalValue  Price_x     CustomerName         Region  SignupDate  \\\n",
      "0      300.68   300.68   Andrea Jenkins         Europe  2022-12-03   \n",
      "1      300.68   300.68  Brittany Harvey           Asia  2024-09-04   \n",
      "2      300.68   300.68  Kathryn Stevens         Europe  2024-04-04   \n",
      "3      601.36   300.68  Travis Campbell  South America  2024-04-11   \n",
      "4      902.04   300.68    Timothy Perez         Europe  2022-03-15   \n",
      "\n",
      "                       ProductName     Category  Price_y  \n",
      "0  ComfortLiving Bluetooth Speaker  Electronics   300.68  \n",
      "1  ComfortLiving Bluetooth Speaker  Electronics   300.68  \n",
      "2  ComfortLiving Bluetooth Speaker  Electronics   300.68  \n",
      "3  ComfortLiving Bluetooth Speaker  Electronics   300.68  \n",
      "4  ComfortLiving Bluetooth Speaker  Electronics   300.68  \n"
     ]
    }
   ],
   "source": [
    "print(data.head())"
   ]
  },
  {
   "cell_type": "code",
   "execution_count": 5,
   "id": "d115f3b1",
   "metadata": {},
   "outputs": [],
   "source": [
    "customer_profiles = data.groupby(\"CustomerID\").agg({\n",
    "    \"TotalValue\": \"sum\",  # Total spending\n",
    "    \"TransactionID\": \"count\",  # Total transactions\n",
    "    \"Category\": lambda x: x.mode()[0]  # Most frequent category\n",
    "}).reset_index()"
   ]
  },
  {
   "cell_type": "code",
   "execution_count": 6,
   "id": "bcece39c",
   "metadata": {},
   "outputs": [
    {
     "name": "stdout",
     "output_type": "stream",
     "text": [
      "  CustomerID  TotalSpent  TransactionCount     Category\n",
      "0      C0001     3354.52                 5  Electronics\n",
      "1      C0002     1862.74                 4     Clothing\n",
      "2      C0003     2725.38                 4   Home Decor\n",
      "3      C0004     5354.88                 8        Books\n",
      "4      C0005     2034.24                 3  Electronics\n"
     ]
    }
   ],
   "source": [
    "customer_profiles.rename(columns={\n",
    "    \"TotalValue\": \"TotalSpent\",\n",
    "    \"TransactionID\": \"TransactionCount\"\n",
    "}, inplace=True)\n",
    "\n",
    "print(customer_profiles.head())"
   ]
  },
  {
   "cell_type": "code",
   "execution_count": 7,
   "id": "13f3af8e",
   "metadata": {},
   "outputs": [
    {
     "name": "stdout",
     "output_type": "stream",
     "text": [
      "  CustomerID  TotalSpent  TransactionCount     Category\n",
      "0      C0001    0.308942               0.4  Electronics\n",
      "1      C0002    0.168095               0.3     Clothing\n",
      "2      C0003    0.249541               0.3   Home Decor\n",
      "3      C0004    0.497806               0.7        Books\n",
      "4      C0005    0.184287               0.2  Electronics\n"
     ]
    }
   ],
   "source": [
    "scaler = MinMaxScaler()\n",
    "customer_profiles[[\"TotalSpent\", \"TransactionCount\"]] = scaler.fit_transform(\n",
    "    customer_profiles[[\"TotalSpent\", \"TransactionCount\"]]\n",
    ")\n",
    "\n",
    "print(customer_profiles.head())"
   ]
  },
  {
   "cell_type": "code",
   "execution_count": 9,
   "id": "cde34737",
   "metadata": {},
   "outputs": [],
   "source": [
    "category_encoded = pd.get_dummies(customer_profiles[\"Category\"], prefix=\"Category\")"
   ]
  },
  {
   "cell_type": "code",
   "execution_count": 10,
   "id": "e48a7fdb",
   "metadata": {},
   "outputs": [],
   "source": [
    "customer_features = pd.concat(\n",
    "    [customer_profiles[[\"TotalSpent\", \"TransactionCount\"]], category_encoded], axis=1\n",
    ")"
   ]
  },
  {
   "cell_type": "code",
   "execution_count": 11,
   "id": "4ec3f99b",
   "metadata": {},
   "outputs": [
    {
     "name": "stdout",
     "output_type": "stream",
     "text": [
      "CustomerID     C0001     C0002     C0003     C0004     C0005     C0006  \\\n",
      "CustomerID                                                               \n",
      "C0001       1.000000  0.145106  0.163869  0.293686  0.979134  0.192838   \n",
      "C0002       0.145106  1.000000  0.116239  0.210669  0.083018  0.132129   \n",
      "C0003       0.163869  0.116239  1.000000  0.236188  0.095276  0.156797   \n",
      "C0004       0.293686  0.210669  0.236188  1.000000  0.169631  0.955776   \n",
      "C0005       0.979134  0.083018  0.095276  0.169631  1.000000  0.114347   \n",
      "\n",
      "CustomerID     C0007     C0008     C0009     C0010  ...     C0191     C0192  \\\n",
      "CustomerID                                          ...                       \n",
      "C0001       0.982985  0.306891  0.090538  0.141813  ...  0.196733  0.991129   \n",
      "C0002       0.090016  0.226911  0.992088  0.999918  ...  0.141443  0.108389   \n",
      "C0003       0.105770  0.909265  0.072127  0.113450  ...  0.158128  0.120218   \n",
      "C0004       0.186531  0.447311  0.132226  0.206182  ...  0.966961  0.217065   \n",
      "C0005       0.998827  0.174020  0.051107  0.080872  ...  0.113478  0.995719   \n",
      "\n",
      "CustomerID     C0193     C0194     C0195     C0196     C0197     C0198  \\\n",
      "CustomerID                                                               \n",
      "C0001       0.169719  0.256424  0.238759  0.205499  0.978111  0.057344   \n",
      "C0002       0.119479  0.186142  0.170685  0.138933  0.081624  0.978757   \n",
      "C0003       0.137117  0.205614  0.982519  0.983385  0.093195  0.046214   \n",
      "C0004       0.946524  0.993789  0.344844  0.292498  0.166275  0.082710   \n",
      "C0005       0.099112  0.147056  0.138185  0.122750  0.999955  0.033289   \n",
      "\n",
      "CustomerID     C0199     C0200  \n",
      "CustomerID                      \n",
      "C0001       0.990262  0.227259  \n",
      "C0002       0.107221  0.970183  \n",
      "C0003       0.118455  0.184214  \n",
      "C0004       0.214233  0.325705  \n",
      "C0005       0.995673  0.133769  \n",
      "\n",
      "[5 rows x 199 columns]\n"
     ]
    }
   ],
   "source": [
    "\n",
    "similarity_matrix = cosine_similarity(customer_features)\n",
    "\n",
    "\n",
    "similarity_df = pd.DataFrame(\n",
    "    similarity_matrix,\n",
    "    index=customer_profiles[\"CustomerID\"],\n",
    "    columns=customer_profiles[\"CustomerID\"]\n",
    ")\n",
    "\n",
    "\n",
    "print(similarity_df.head())\n"
   ]
  },
  {
   "cell_type": "code",
   "execution_count": 12,
   "id": "a33dfde4",
   "metadata": {},
   "outputs": [
    {
     "name": "stdout",
     "output_type": "stream",
     "text": [
      "Customer C0001: [['C0072', 0.9995801239756656], ['C0190', 0.9995396754148373], ['C0069', 0.9992414536172233]]\n",
      "Customer C0002: [['C0029', 0.9999769937828287], ['C0010', 0.9999177738763096], ['C0111', 0.9961301024459819]]\n",
      "Customer C0003: [['C0178', 0.9999989970925096], ['C0052', 0.999791880110156], ['C0166', 0.9996205032237228]]\n",
      "Customer C0004: [['C0021', 0.9999907303388264], ['C0101', 0.9999163269540592], ['C0173', 0.9995595762227322]]\n",
      "Customer C0005: [['C0112', 0.9999775023325984], ['C0197', 0.9999550413378965], ['C0186', 0.9996988311929792]]\n",
      "Customer C0006: [['C0117', 0.999873668447618], ['C0168', 0.9979617911305342], ['C0187', 0.9963642506153775]]\n",
      "Customer C0007: [['C0120', 0.9999532375535115], ['C0050', 0.9990958497332864], ['C0115', 0.9988291289227257]]\n",
      "Customer C0008: [['C0113', 0.9911961983046282], ['C0124', 0.9824122021273818], ['C0065', 0.9794629051971273]]\n",
      "Customer C0009: [['C0077', 0.9999851375384464], ['C0083', 0.9997264144050755], ['C0062', 0.9976924430093821]]\n",
      "Customer C0010: [['C0029', 0.999981754895019], ['C0002', 0.9999177738763096], ['C0111', 0.9959810992597672]]\n",
      "Customer C0011: [['C0064', 0.9997013882014664], ['C0137', 0.9994905572343078], ['C0191', 0.9982450129605144]]\n",
      "Customer C0012: [['C0124', 0.9976552297174862], ['C0100', 0.9974888114302514], ['C0113', 0.9968800383354927]]\n",
      "Customer C0013: [['C0143', 0.999995801619014], ['C0099', 0.9976469285832568], ['C0145', 0.9974393998360376]]\n",
      "Customer C0014: [['C0151', 0.9999600543822388], ['C0097', 0.9998538526669166], ['C0060', 0.9997512176329124]]\n",
      "Customer C0015: [['C0063', 0.99979032502711], ['C0123', 0.9997467877620104], ['C0043', 0.99526749136661]]\n",
      "Customer C0016: [['C0183', 0.9999981730041191], ['C0107', 0.9998019517013405], ['C0149', 0.999148591693888]]\n",
      "Customer C0017: [['C0004', 0.9991800778888101], ['C0021', 0.9989964914283755], ['C0101', 0.9985727392182849]]\n",
      "Customer C0018: [['C0187', 0.9999185644588379], ['C0171', 0.9996373290235097], ['C0064', 0.9983841031565498]]\n",
      "Customer C0019: [['C0116', 0.9989201873400501], ['C0047', 0.9961034388968285], ['C0118', 0.9949956484123584]]\n",
      "Customer C0020: [['C0130', 0.9995444526367542], ['C0095', 0.9945298604744075], ['C0140', 0.9911734812068119]]\n"
     ]
    }
   ],
   "source": [
    "top_lookalikes = {}\n",
    "\n",
    "for customer in customer_profiles[\"CustomerID\"][:20]:  # First 20 customers\n",
    "    # Get similarity scores for the customer\n",
    "    scores = similarity_df[customer].sort_values(ascending=False)\n",
    "    # Exclude the customer itself and get the top 3 similar customers\n",
    "    top_3 = scores.iloc[1:4].reset_index()\n",
    "    top_3.columns = [\"LookalikeCustomerID\", \"Score\"]\n",
    "    top_lookalikes[customer] = top_3.values.tolist()\n",
    "\n",
    "# Preview results\n",
    "for key, value in top_lookalikes.items():\n",
    "    print(f\"Customer {key}: {value}\")"
   ]
  },
  {
   "cell_type": "code",
   "execution_count": 13,
   "id": "137fb6d2",
   "metadata": {},
   "outputs": [
    {
     "name": "stdout",
     "output_type": "stream",
     "text": [
      "Lookalike.csv created successfully!\n"
     ]
    }
   ],
   "source": [
    "lookalike_data = []\n",
    "\n",
    "for cust_id, lookalikes in top_lookalikes.items():\n",
    "    # Convert the lookalike list to the required format\n",
    "    lookalike_data.append({\n",
    "        \"cust_id\": cust_id,\n",
    "        \"lookalikes\": str(lookalikes)  # Convert list to string for CSV format\n",
    "    })\n",
    "\n",
    "# Create DataFrame\n",
    "lookalike_df = pd.DataFrame(lookalike_data)\n",
    "\n",
    "# Save as Lookalike.csv\n",
    "lookalike_df.to_csv(\"Lookalike.csv\", index=False)\n",
    "print(\"Lookalike.csv created successfully!\")"
   ]
  },
  {
   "cell_type": "code",
   "execution_count": 14,
   "id": "6795221c",
   "metadata": {},
   "outputs": [
    {
     "name": "stdout",
     "output_type": "stream",
     "text": [
      "Current working directory: C:\\Users\\Ayushi singh\n"
     ]
    }
   ],
   "source": [
    "import os\n",
    "print(\"Current working directory:\", os.getcwd())\n"
   ]
  }
 ],
 "metadata": {
  "kernelspec": {
   "display_name": "Python 3 (ipykernel)",
   "language": "python",
   "name": "python3"
  },
  "language_info": {
   "codemirror_mode": {
    "name": "ipython",
    "version": 3
   },
   "file_extension": ".py",
   "mimetype": "text/x-python",
   "name": "python",
   "nbconvert_exporter": "python",
   "pygments_lexer": "ipython3",
   "version": "3.11.4"
  }
 },
 "nbformat": 4,
 "nbformat_minor": 5
}
